{
 "cells": [
  {
   "cell_type": "markdown",
   "metadata": {
    "id": "Z2psHklGRjNS"
   },
   "source": [
    "# EcoSort Waste Management Assistant\n",
    "# Module 8 Summative Lab"
   ]
  },
  {
   "cell_type": "markdown",
   "metadata": {
    "id": "_L1jGlvHRjNV"
   },
   "source": [
    "## Overview\n",
    "\n",
    "You are a data scientist at \"EcoSort,\" a technology company that specializes in developing AI solutions for waste management. EcoSort has partnered with Metro City's waste management department to develop an intelligent waste management assistant that can help residents properly dispose of waste items so less time is spent sorting material at facilities.\n",
    "\n",
    "This assistant needs to:\n",
    "\n",
    "1. Identify waste materials from images uploaded by residents (CNN)\n",
    "2. Classify waste items based on text descriptions provided by residents (RNN/Transformer)\n",
    "3. Generate specific recycling instructions based on identified waste type and city policies (Generative Transformer with RAG)\n",
    "\n",
    "Your task is to build this integrated system using the RealWaste dataset along with generated text data that simulates real-world waste management operations."
   ]
  },
  {
   "cell_type": "markdown",
   "metadata": {
    "id": "jHzCo330RjNW"
   },
   "source": [
    "## Part 1: Dataset Exploration and Preparation\n",
    "\n",
    "In this section, you will explore and prepare the datasets for your models."
   ]
  },
  {
   "cell_type": "markdown",
   "metadata": {
    "id": "K-3mzMwFRjNW"
   },
   "source": [
    "### 1.1 Load and Explore the RealWaste Dataset"
   ]
  },
  {
   "cell_type": "code",
   "execution_count": 7,
   "metadata": {
    "id": "lauhxwjTRjNW"
   },
   "outputs": [],
   "source": [
    "import json\n",
    "import os\n",
    "import random\n",
    "from pathlib import Path\n",
    "\n",
    "import numpy as np\n",
    "import pandas as pd\n",
    "from PIL import Image, UnidentifiedImageError\n",
    "import tensorflow as tf\n",
    "from IPython.display import display\n",
    "import matplotlib.pyplot as plt\n",
    "import seaborn as sns\n",
    "\n",
    "# Configure pandas display for easier exploration\n",
    "pd.set_option('display.max_columns', None)\n",
    "\n",
    "SEED = 42\n",
    "np.random.seed(SEED)\n",
    "tf.random.set_seed(SEED)\n",
    "random.seed(SEED)\n",
    "\n",
    "sns.set_theme(style='whitegrid')\n"
   ]
  },
  {
   "cell_type": "code",
   "execution_count": null,
   "metadata": {
    "id": "Hf3kpV0-RjNX"
   },
   "outputs": [
    {
     "data": {
      "text/html": [
       "<div>\n",
       "<style scoped>\n",
       "    .dataframe tbody tr th:only-of-type {\n",
       "        vertical-align: middle;\n",
       "    }\n",
       "\n",
       "    .dataframe tbody tr th {\n",
       "        vertical-align: top;\n",
       "    }\n",
       "\n",
       "    .dataframe thead th {\n",
       "        text-align: right;\n",
       "    }\n",
       "</style>\n",
       "<table border=\"1\" class=\"dataframe\">\n",
       "  <thead>\n",
       "    <tr style=\"text-align: right;\">\n",
       "      <th></th>\n",
       "      <th>image_path</th>\n",
       "      <th>target</th>\n",
       "      <th>width</th>\n",
       "      <th>height</th>\n",
       "      <th>file_size</th>\n",
       "      <th>file_size_kb</th>\n",
       "    </tr>\n",
       "  </thead>\n",
       "  <tbody>\n",
       "    <tr>\n",
       "      <th>0</th>\n",
       "      <td>RealWaste/Cardboard/Cardboard_222.jpg</td>\n",
       "      <td>Cardboard</td>\n",
       "      <td>524</td>\n",
       "      <td>524</td>\n",
       "      <td>124685</td>\n",
       "      <td>121.76</td>\n",
       "    </tr>\n",
       "    <tr>\n",
       "      <th>1</th>\n",
       "      <td>RealWaste/Cardboard/Cardboard_143.jpg</td>\n",
       "      <td>Cardboard</td>\n",
       "      <td>524</td>\n",
       "      <td>524</td>\n",
       "      <td>158655</td>\n",
       "      <td>154.94</td>\n",
       "    </tr>\n",
       "    <tr>\n",
       "      <th>2</th>\n",
       "      <td>RealWaste/Cardboard/Cardboard_274.jpg</td>\n",
       "      <td>Cardboard</td>\n",
       "      <td>524</td>\n",
       "      <td>524</td>\n",
       "      <td>102798</td>\n",
       "      <td>100.39</td>\n",
       "    </tr>\n",
       "    <tr>\n",
       "      <th>3</th>\n",
       "      <td>RealWaste/Cardboard/Cardboard_235.jpg</td>\n",
       "      <td>Cardboard</td>\n",
       "      <td>524</td>\n",
       "      <td>524</td>\n",
       "      <td>82142</td>\n",
       "      <td>80.22</td>\n",
       "    </tr>\n",
       "    <tr>\n",
       "      <th>4</th>\n",
       "      <td>RealWaste/Cardboard/Cardboard_48.jpg</td>\n",
       "      <td>Cardboard</td>\n",
       "      <td>524</td>\n",
       "      <td>524</td>\n",
       "      <td>85693</td>\n",
       "      <td>83.68</td>\n",
       "    </tr>\n",
       "  </tbody>\n",
       "</table>\n",
       "</div>"
      ],
      "text/plain": [
       "                              image_path     target  width  height  file_size  \\\n",
       "0  RealWaste/Cardboard/Cardboard_222.jpg  Cardboard    524     524     124685   \n",
       "1  RealWaste/Cardboard/Cardboard_143.jpg  Cardboard    524     524     158655   \n",
       "2  RealWaste/Cardboard/Cardboard_274.jpg  Cardboard    524     524     102798   \n",
       "3  RealWaste/Cardboard/Cardboard_235.jpg  Cardboard    524     524      82142   \n",
       "4   RealWaste/Cardboard/Cardboard_48.jpg  Cardboard    524     524      85693   \n",
       "\n",
       "   file_size_kb  \n",
       "0        121.76  \n",
       "1        154.94  \n",
       "2        100.39  \n",
       "3         80.22  \n",
       "4         83.68  "
      ]
     },
     "metadata": {},
     "output_type": "display_data"
    },
    {
     "data": {
      "text/plain": [
       "target\n",
       "Plastic                921\n",
       "Metal                  790\n",
       "Paper                  500\n",
       "Miscellaneous Trash    495\n",
       "Cardboard              461\n",
       "Vegetation             436\n",
       "Glass                  420\n",
       "Food Organics          411\n",
       "Textile Trash          318\n",
       "Name: image_count, dtype: int64"
      ]
     },
     "metadata": {},
     "output_type": "display_data"
    },
    {
     "name": "stderr",
     "output_type": "stream",
     "text": [
      "/tmp/ipykernel_77299/3875489152.py:39: FutureWarning: \n",
      "\n",
      "Passing `palette` without assigning `hue` is deprecated and will be removed in v0.14.0. Assign the `x` variable to `hue` and set `legend=False` for the same effect.\n",
      "\n",
      "  sns.barplot(x=category_counts.index, y=category_counts.values, palette='viridis')\n"
     ]
    },
    {
     "data": {
      "image/png": "[encoded data removed]",
      "text/plain": [
       "<Figure size 1000x400 with 1 Axes>"
      ]
     },
     "metadata": {},
     "output_type": "display_data"
    },
    {
     "data": {
      "text/html": [
       "<div>\n",
       "<style scoped>\n",
       "    .dataframe tbody tr th:only-of-type {\n",
       "        vertical-align: middle;\n",
       "    }\n",
       "\n",
       "    .dataframe tbody tr th {\n",
       "        vertical-align: top;\n",
       "    }\n",
       "\n",
       "    .dataframe thead th {\n",
       "        text-align: right;\n",
       "    }\n",
       "</style>\n",
       "<table border=\"1\" class=\"dataframe\">\n",
       "  <thead>\n",
       "    <tr style=\"text-align: right;\">\n",
       "      <th></th>\n",
       "      <th>width</th>\n",
       "      <th>height</th>\n",
       "    </tr>\n",
       "  </thead>\n",
       "  <tbody>\n",
       "    <tr>\n",
       "      <th>mean</th>\n",
       "      <td>524.0</td>\n",
       "      <td>524.0</td>\n",
       "    </tr>\n",
       "    <tr>\n",
       "      <th>min</th>\n",
       "      <td>524.0</td>\n",
       "      <td>524.0</td>\n",
       "    </tr>\n",
       "    <tr>\n",
       "      <th>max</th>\n",
       "      <td>524.0</td>\n",
       "      <td>524.0</td>\n",
       "    </tr>\n",
       "  </tbody>\n",
       "</table>\n",
       "</div>"
      ],
      "text/plain": [
       "      width  height\n",
       "mean  524.0   524.0\n",
       "min   524.0   524.0\n",
       "max   524.0   524.0"
      ]
     },
     "metadata": {},
     "output_type": "display_data"
    },
    {
     "name": "stdout",
     "output_type": "stream",
     "text": [
      "Total images: 4,752\n",
      "Targets: Cardboard, Food Organics, Glass, Metal, Miscellaneous Trash, Paper, Plastic, Textile Trash, Vegetation\n"
     ]
    }
   ],
   "source": [
    "# Ensure a resized copy of the RealWaste dataset exists and load metadata lazily\n",
    "original_root = Path('realwaste-main/RealWaste')\n",
    "resized_root = Path('realwaste-resized')\n",
    "target_size = (224, 224)\n",
    "supported_exts = {'.jpg', '.jpeg', '.png'}\n",
    "resample_filter = getattr(Image, 'Resampling', Image).LANCZOS\n",
    "\n",
    "resized_root.mkdir(parents=True, exist_ok=True)\n",
    "\n",
    "for class_dir in sorted(original_root.iterdir()):\n",
    "    if not class_dir.is_dir():\n",
    "        continue\n",
    "    target_dir = resized_root / class_dir.name\n",
    "    target_dir.mkdir(parents=True, exist_ok=True)\n",
    "    for img_path in class_dir.iterdir():\n",
    "        if img_path.suffix.lower() not in supported_exts:\n",
    "            continue\n",
    "        dest_path = target_dir / img_path.name\n",
    "        source_mtime = img_path.stat().st_mtime\n",
    "        if dest_path.exists() and dest_path.stat().st_mtime >= source_mtime:\n",
    "            continue\n",
    "        try:\n",
    "            with Image.open(img_path) as img:\n",
    "                img = img.convert('RGB')\n",
    "                resized_img = img.resize(target_size, resample=resample_filter)\n",
    "                resized_img.save(dest_path, format='JPEG', quality=95)\n",
    "        except UnidentifiedImageError:\n",
    "            print(f'Unidentified image skipped during resize: {img_path}')\n",
    "            continue\n",
    "        except Exception as exc:\n",
    "            print(f'Warning: could not resize {img_path.name}: {exc}')\n",
    "            continue\n",
    "\n",
    "image_root = resized_root\n",
    "image_records = []\n",
    "\n",
    "for class_dir in sorted(image_root.iterdir()):\n",
    "    if not class_dir.is_dir():\n",
    "        continue\n",
    "    for img_path in class_dir.iterdir():\n",
    "        if img_path.suffix.lower() not in supported_exts:\n",
    "            continue\n",
    "        file_size = img_path.stat().st_size\n",
    "        width = height = None\n",
    "        try:\n",
    "            with Image.open(img_path) as img:\n",
    "                width, height = img.size\n",
    "        except UnidentifiedImageError:\n",
    "            print(f'Unidentified image skipped: {img_path}')\n",
    "            continue\n",
    "        except Exception as exc:\n",
    "            print(f'Warning: could not process {img_path.name}: {exc}')\n",
    "        image_records.append({\n",
    "            'image_path': img_path.relative_to(image_root.parent).as_posix(),\n",
    "            'target': class_dir.name,\n",
    "            'width': width,\n",
    "            'height': height,\n",
    "            'file_size': file_size,\n",
    "        })\n",
    "\n",
    "image_df = pd.DataFrame(image_records)\n",
    "if image_df.empty:\n",
    "    raise ValueError('No images were loaded from the resized RealWaste dataset path')\n",
    "\n",
    "image_df['file_size_kb'] = (image_df['file_size'] / 1024).round(2)\n",
    "display(image_df.head())\n",
    "display(image_df['target'].value_counts().rename('image_count'))\n",
    "category_counts = image_df['target'].value_counts().sort_index()\n",
    "plt.figure(figsize=(10, 4))\n",
    "sns.barplot(x=category_counts.index, y=category_counts.values, palette='viridis')\n",
    "plt.xticks(rotation=30, ha='right')\n",
    "plt.ylabel('Number of images')\n",
    "plt.xlabel('Category')\n",
    "plt.title('RealWaste Category Distribution')\n",
    "plt.tight_layout()\n",
    "plt.show()\n",
    "\n",
    "resolution_summary = (\n",
    "    image_df[['width', 'height']]\n",
    "    .describe()\n",
    "    .loc[['mean', 'min', 'max']]\n",
    "    .round(1)\n",
    ")\n",
    "display(resolution_summary)\n",
    "print(f'Total images: {len(image_df):,}')\n",
    "print('Targets:', ', '.join(sorted(image_df['target'].unique())))\n",
    "print(f'Resized dataset located at: {image_root.as_posix()}')\n"
   ]
  },
  {
   "cell_type": "markdown",
   "metadata": {},
   "source": [
    "#### Part 1.1 Key Takeaways\n",
    "- 4,752 labeled images now live in `realwaste-resized/`, mirroring the original class imbalance (Plastic/Metal dominant, Textile Trash sparse) so we should still plan for class weighting or targeted augmentation.\n",
    "- We resized every image to 224×224 using LANCZOS resampling and saved the results to disk. This standardizes inputs for common ImageNet‑pretrained CNNs (e.g., ResNet/MobileNet), reduces GPU memory/compute, and speeds training with larger, more stable batches.\n",
    "- Keeping a separate `realwaste-resized/` copy preserves the raw dataset and avoids per‑epoch resize overhead, improving reproducibility and I/O throughput. If aspect ratio fidelity becomes important later, we can switch to center‑crop/letterboxing instead of direct warping.\n",
    "- JPEG file sizes fall to roughly 10–39 KB (median ≈23 KB), light enough for faster I/O and bigger batches without noticeable quality loss.\n"
   ]
  },
  {
   "cell_type": "markdown",
   "metadata": {
    "id": "vR-vCTxIRjNY"
   },
   "source": [
    "### 1.2 Explore Text Datasets"
   ]
  },
  {
   "cell_type": "code",
   "execution_count": 9,
   "metadata": {
    "id": "HPD1AqL6RjNY"
   },
   "outputs": [
    {
     "data": {
      "text/html": [
       "<div>\n",
       "<style scoped>\n",
       "    .dataframe tbody tr th:only-of-type {\n",
       "        vertical-align: middle;\n",
       "    }\n",
       "\n",
       "    .dataframe tbody tr th {\n",
       "        vertical-align: top;\n",
       "    }\n",
       "\n",
       "    .dataframe thead th {\n",
       "        text-align: right;\n",
       "    }\n",
       "</style>\n",
       "<table border=\"1\" class=\"dataframe\">\n",
       "  <thead>\n",
       "    <tr style=\"text-align: right;\">\n",
       "      <th></th>\n",
       "      <th>description</th>\n",
       "      <th>category</th>\n",
       "      <th>disposal_instruction</th>\n",
       "      <th>common_confusion</th>\n",
       "      <th>material_composition</th>\n",
       "    </tr>\n",
       "  </thead>\n",
       "  <tbody>\n",
       "    <tr>\n",
       "      <th>0</th>\n",
       "      <td>soiled silver tablecloth</td>\n",
       "      <td>Textile Trash</td>\n",
       "      <td>Look for textile recycling programs in your area.</td>\n",
       "      <td>NaN</td>\n",
       "      <td>Fabric made from natural or synthetic fibers, ...</td>\n",
       "    </tr>\n",
       "    <tr>\n",
       "      <th>1</th>\n",
       "      <td>folded glass bottle leaking</td>\n",
       "      <td>Glass</td>\n",
       "      <td>Remove caps, lids, and corks before recycling.</td>\n",
       "      <td>NaN</td>\n",
       "      <td>Silica-based material, may contain additives f...</td>\n",
       "    </tr>\n",
       "    <tr>\n",
       "      <th>2</th>\n",
       "      <td>large Supermarket vegetable waste with food re...</td>\n",
       "      <td>Food Organics</td>\n",
       "      <td>If no compost available, place in general waste.</td>\n",
       "      <td>NaN</td>\n",
       "      <td>Biodegradable matter derived from plant or ani...</td>\n",
       "    </tr>\n",
       "    <tr>\n",
       "      <th>3</th>\n",
       "      <td>intact floral carpet piece</td>\n",
       "      <td>Textile Trash</td>\n",
       "      <td>Look for textile recycling programs in your area.</td>\n",
       "      <td>NaN</td>\n",
       "      <td>Fabric made from natural or synthetic fibers, ...</td>\n",
       "    </tr>\n",
       "    <tr>\n",
       "      <th>4</th>\n",
       "      <td>empty fun-sized purple apple core</td>\n",
       "      <td>Food Organics</td>\n",
       "      <td>Keep separate from recyclable materials.</td>\n",
       "      <td>Meat and dairy products may be restricted in s...</td>\n",
       "      <td>Biodegradable matter derived from plant or ani...</td>\n",
       "    </tr>\n",
       "  </tbody>\n",
       "</table>\n",
       "</div>"
      ],
      "text/plain": [
       "                                         description       category  \\\n",
       "0                           soiled silver tablecloth  Textile Trash   \n",
       "1                        folded glass bottle leaking          Glass   \n",
       "2  large Supermarket vegetable waste with food re...  Food Organics   \n",
       "3                         intact floral carpet piece  Textile Trash   \n",
       "4                  empty fun-sized purple apple core  Food Organics   \n",
       "\n",
       "                                disposal_instruction  \\\n",
       "0  Look for textile recycling programs in your area.   \n",
       "1     Remove caps, lids, and corks before recycling.   \n",
       "2   If no compost available, place in general waste.   \n",
       "3  Look for textile recycling programs in your area.   \n",
       "4           Keep separate from recyclable materials.   \n",
       "\n",
       "                                    common_confusion  \\\n",
       "0                                                NaN   \n",
       "1                                                NaN   \n",
       "2                                                NaN   \n",
       "3                                                NaN   \n",
       "4  Meat and dairy products may be restricted in s...   \n",
       "\n",
       "                                material_composition  \n",
       "0  Fabric made from natural or synthetic fibers, ...  \n",
       "1  Silica-based material, may contain additives f...  \n",
       "2  Biodegradable matter derived from plant or ani...  \n",
       "3  Fabric made from natural or synthetic fibers, ...  \n",
       "4  Biodegradable matter derived from plant or ani...  "
      ]
     },
     "metadata": {},
     "output_type": "display_data"
    },
    {
     "data": {
      "text/plain": [
       "category\n",
       "Vegetation             600\n",
       "Textile Trash          586\n",
       "Cardboard              584\n",
       "Miscellaneous Trash    578\n",
       "Plastic                569\n",
       "Glass                  551\n",
       "Food Organics          518\n",
       "Metal                  508\n",
       "Paper                  506\n",
       "Name: description_count, dtype: int64"
      ]
     },
     "metadata": {},
     "output_type": "display_data"
    },
    {
     "data": {
      "text/html": [
       "<div>\n",
       "<style scoped>\n",
       "    .dataframe tbody tr th:only-of-type {\n",
       "        vertical-align: middle;\n",
       "    }\n",
       "\n",
       "    .dataframe tbody tr th {\n",
       "        vertical-align: top;\n",
       "    }\n",
       "\n",
       "    .dataframe thead th {\n",
       "        text-align: right;\n",
       "    }\n",
       "</style>\n",
       "<table border=\"1\" class=\"dataframe\">\n",
       "  <thead>\n",
       "    <tr style=\"text-align: right;\">\n",
       "      <th></th>\n",
       "      <th>description_words</th>\n",
       "      <th>material_words</th>\n",
       "    </tr>\n",
       "  </thead>\n",
       "  <tbody>\n",
       "    <tr>\n",
       "      <th>count</th>\n",
       "      <td>5000.00</td>\n",
       "      <td>5000.00</td>\n",
       "    </tr>\n",
       "    <tr>\n",
       "      <th>mean</th>\n",
       "      <td>4.85</td>\n",
       "      <td>8.35</td>\n",
       "    </tr>\n",
       "    <tr>\n",
       "      <th>std</th>\n",
       "      <td>1.55</td>\n",
       "      <td>0.95</td>\n",
       "    </tr>\n",
       "    <tr>\n",
       "      <th>min</th>\n",
       "      <td>1.00</td>\n",
       "      <td>7.00</td>\n",
       "    </tr>\n",
       "    <tr>\n",
       "      <th>25%</th>\n",
       "      <td>4.00</td>\n",
       "      <td>8.00</td>\n",
       "    </tr>\n",
       "    <tr>\n",
       "      <th>50%</th>\n",
       "      <td>5.00</td>\n",
       "      <td>8.00</td>\n",
       "    </tr>\n",
       "    <tr>\n",
       "      <th>75%</th>\n",
       "      <td>6.00</td>\n",
       "      <td>9.00</td>\n",
       "    </tr>\n",
       "    <tr>\n",
       "      <th>max</th>\n",
       "      <td>10.00</td>\n",
       "      <td>10.00</td>\n",
       "    </tr>\n",
       "  </tbody>\n",
       "</table>\n",
       "</div>"
      ],
      "text/plain": [
       "       description_words  material_words\n",
       "count            5000.00         5000.00\n",
       "mean                4.85            8.35\n",
       "std                 1.55            0.95\n",
       "min                 1.00            7.00\n",
       "25%                 4.00            8.00\n",
       "50%                 5.00            8.00\n",
       "75%                 6.00            9.00\n",
       "max                10.00           10.00"
      ]
     },
     "metadata": {},
     "output_type": "display_data"
    },
    {
     "name": "stdout",
     "output_type": "stream",
     "text": [
      "Total text samples: 5,000\n",
      "Unique categories: Cardboard, Food Organics, Glass, Metal, Miscellaneous Trash, Paper, Plastic, Textile Trash, Vegetation\n"
     ]
    }
   ],
   "source": [
    "# Load and inspect the waste description text dataset\n",
    "text_df = pd.read_csv('waste_descriptions.csv')\n",
    "display(text_df.head())\n",
    "\n",
    "category_distribution = text_df['category'].value_counts().rename('description_count')\n",
    "display(category_distribution)\n",
    "\n",
    "description_word_counts = text_df['description'].str.split().str.len()\n",
    "material_word_counts = text_df['material_composition'].fillna('').str.split().str.len()\n",
    "text_length_profile = pd.DataFrame({\n",
    "    'description_words': description_word_counts,\n",
    "    'material_words': material_word_counts\n",
    "}).describe().round(2)\n",
    "display(text_length_profile)\n",
    "print(f'Total text samples: {len(text_df):,}')\n",
    "print('Unique categories:', ', '.join(sorted(text_df['category'].unique())))\n"
   ]
  },
  {
   "cell_type": "code",
   "execution_count": 10,
   "metadata": {
    "id": "h5AnSw1IRjNY"
   },
   "outputs": [
    {
     "data": {
      "text/html": [
       "<div>\n",
       "<style scoped>\n",
       "    .dataframe tbody tr th:only-of-type {\n",
       "        vertical-align: middle;\n",
       "    }\n",
       "\n",
       "    .dataframe tbody tr th {\n",
       "        vertical-align: top;\n",
       "    }\n",
       "\n",
       "    .dataframe thead th {\n",
       "        text-align: right;\n",
       "    }\n",
       "</style>\n",
       "<table border=\"1\" class=\"dataframe\">\n",
       "  <thead>\n",
       "    <tr style=\"text-align: right;\">\n",
       "      <th></th>\n",
       "      <th>policy_id</th>\n",
       "      <th>policy_type</th>\n",
       "      <th>effective_date</th>\n",
       "      <th>document_text</th>\n",
       "      <th>jurisdiction</th>\n",
       "      <th>categories_covered</th>\n",
       "    </tr>\n",
       "  </thead>\n",
       "  <tbody>\n",
       "    <tr>\n",
       "      <th>0</th>\n",
       "      <td>1</td>\n",
       "      <td>Textile Trash Recycling Guidelines</td>\n",
       "      <td>2023-11-04</td>\n",
       "      <td>TEXTILE RECYCLING GUIDELINES\\n\\nAcceptable Ite...</td>\n",
       "      <td>Metro City</td>\n",
       "      <td>[Textile Trash]</td>\n",
       "    </tr>\n",
       "    <tr>\n",
       "      <th>1</th>\n",
       "      <td>2</td>\n",
       "      <td>Glass Recycling Guidelines</td>\n",
       "      <td>2023-01-24</td>\n",
       "      <td>GLASS RECYCLING GUIDELINES\\n\\nAcceptable Items...</td>\n",
       "      <td>Metro City</td>\n",
       "      <td>[Glass]</td>\n",
       "    </tr>\n",
       "    <tr>\n",
       "      <th>2</th>\n",
       "      <td>3</td>\n",
       "      <td>Food Organics Recycling Guidelines</td>\n",
       "      <td>2023-05-08</td>\n",
       "      <td>FOOD ORGANICS RECYCLING GUIDELINES\\n\\nAcceptab...</td>\n",
       "      <td>Metro City</td>\n",
       "      <td>[Food Organics]</td>\n",
       "    </tr>\n",
       "    <tr>\n",
       "      <th>3</th>\n",
       "      <td>4</td>\n",
       "      <td>Plastic Recycling Guidelines</td>\n",
       "      <td>2023-04-05</td>\n",
       "      <td>PLASTIC RECYCLING GUIDELINES\\n\\nAcceptable Ite...</td>\n",
       "      <td>Metro City</td>\n",
       "      <td>[Plastic]</td>\n",
       "    </tr>\n",
       "    <tr>\n",
       "      <th>4</th>\n",
       "      <td>5</td>\n",
       "      <td>Vegetation Recycling Guidelines</td>\n",
       "      <td>2023-12-04</td>\n",
       "      <td>VEGETATION RECYCLING GUIDELINES\\n\\nAcceptable ...</td>\n",
       "      <td>Metro City</td>\n",
       "      <td>[Vegetation]</td>\n",
       "    </tr>\n",
       "  </tbody>\n",
       "</table>\n",
       "</div>"
      ],
      "text/plain": [
       "   policy_id                         policy_type effective_date  \\\n",
       "0          1  Textile Trash Recycling Guidelines     2023-11-04   \n",
       "1          2          Glass Recycling Guidelines     2023-01-24   \n",
       "2          3  Food Organics Recycling Guidelines     2023-05-08   \n",
       "3          4        Plastic Recycling Guidelines     2023-04-05   \n",
       "4          5     Vegetation Recycling Guidelines     2023-12-04   \n",
       "\n",
       "                                       document_text jurisdiction  \\\n",
       "0  TEXTILE RECYCLING GUIDELINES\\n\\nAcceptable Ite...   Metro City   \n",
       "1  GLASS RECYCLING GUIDELINES\\n\\nAcceptable Items...   Metro City   \n",
       "2  FOOD ORGANICS RECYCLING GUIDELINES\\n\\nAcceptab...   Metro City   \n",
       "3  PLASTIC RECYCLING GUIDELINES\\n\\nAcceptable Ite...   Metro City   \n",
       "4  VEGETATION RECYCLING GUIDELINES\\n\\nAcceptable ...   Metro City   \n",
       "\n",
       "  categories_covered  \n",
       "0    [Textile Trash]  \n",
       "1            [Glass]  \n",
       "2    [Food Organics]  \n",
       "3          [Plastic]  \n",
       "4       [Vegetation]  "
      ]
     },
     "metadata": {},
     "output_type": "display_data"
    },
    {
     "data": {
      "text/plain": [
       "policy_type\n",
       "Textile Trash Recycling Guidelines          1\n",
       "Glass Recycling Guidelines                  1\n",
       "Food Organics Recycling Guidelines          1\n",
       "Plastic Recycling Guidelines                1\n",
       "Vegetation Recycling Guidelines             1\n",
       "Cardboard Recycling Guidelines              1\n",
       "Metal Recycling Guidelines                  1\n",
       "Paper Recycling Guidelines                  1\n",
       "Miscellaneous Trash Recycling Guidelines    1\n",
       "Municipal Waste Guidelines                  1\n",
       "Residential Recycling Rules                 1\n",
       "Commercial Recycling Standards              1\n",
       "Multi-Unit Building Guidelines              1\n",
       "Community Recycling Program                 1\n",
       "Name: policy_count, dtype: int64"
      ]
     },
     "metadata": {},
     "output_type": "display_data"
    },
    {
     "data": {
      "text/plain": [
       "count     14.00\n",
       "mean     101.79\n",
       "std       15.12\n",
       "min       86.00\n",
       "25%       94.25\n",
       "50%       99.00\n",
       "75%      102.00\n",
       "max      146.00\n",
       "Name: document_word_count, dtype: float64"
      ]
     },
     "metadata": {},
     "output_type": "display_data"
    },
    {
     "name": "stdout",
     "output_type": "stream",
     "text": [
      "Total policy documents: 14\n",
      "Jurisdictions: Metro City\n"
     ]
    }
   ],
   "source": [
    "# Load policy documents that will feed the RAG system\n",
    "with open('waste_policy_documents.json', 'r') as f:\n",
    "    policy_records = json.load(f)\n",
    "\n",
    "policy_df = pd.json_normalize(policy_records)\n",
    "expected_cols = [\n",
    "    'policy_id',\n",
    "    'policy_type',\n",
    "    'effective_date',\n",
    "    'document_text',\n",
    "    'jurisdiction',\n",
    "    'categories_covered',\n",
    "]\n",
    "policy_df = policy_df[expected_cols]\n",
    "policy_df['effective_date'] = pd.to_datetime(policy_df['effective_date'], errors='coerce')\n",
    "\n",
    "display(policy_df.head())\n",
    "display(policy_df['policy_type'].value_counts().rename('policy_count'))\n",
    "\n",
    "policy_df['document_word_count'] = policy_df['document_text'].str.split().str.len()\n",
    "display(policy_df['document_word_count'].describe().round(2))\n",
    "print(f'Total policy documents: {len(policy_df):,}')\n",
    "print('Jurisdictions:', ', '.join(sorted(policy_df['jurisdiction'].unique())))\n"
   ]
  },
  {
   "cell_type": "markdown",
   "metadata": {
    "id": "Mj9uiWLuRjNZ"
   },
   "source": [
    "### 1.3 Create Data Pipelines"
   ]
  },
  {
   "cell_type": "code",
   "execution_count": 11,
   "metadata": {
    "id": "5z1AWpXzRjNZ"
   },
   "outputs": [
    {
     "name": "stdout",
     "output_type": "stream",
     "text": [
      "Number of classes: 0\n",
      "Class names: []\n",
      "Total images found: 0\n"
     ]
    },
    {
     "ename": "NotFoundError",
     "evalue": "Could not find directory RealWaste",
     "output_type": "error",
     "traceback": [
      "\u001b[31m---------------------------------------------------------------------------\u001b[39m",
      "\u001b[31mNotFoundError\u001b[39m                             Traceback (most recent call last)",
      "\u001b[36mCell\u001b[39m\u001b[36m \u001b[39m\u001b[32mIn[11]\u001b[39m\u001b[32m, line 25\u001b[39m\n\u001b[32m     21\u001b[39m \u001b[38;5;28mprint\u001b[39m(\u001b[33mf\u001b[39m\u001b[33m\"\u001b[39m\u001b[33mTotal images found: \u001b[39m\u001b[38;5;132;01m{\u001b[39;00mimage_count\u001b[38;5;132;01m}\u001b[39;00m\u001b[33m\"\u001b[39m)\n\u001b[32m     23\u001b[39m \u001b[38;5;66;03m# Create a dataset using tf.keras.utils.image_dataset_from_directory\u001b[39;00m\n\u001b[32m     24\u001b[39m \u001b[38;5;66;03m# This will automatically split the data into training and validation sets\u001b[39;00m\n\u001b[32m---> \u001b[39m\u001b[32m25\u001b[39m train_ds = \u001b[43mtf\u001b[49m\u001b[43m.\u001b[49m\u001b[43mkeras\u001b[49m\u001b[43m.\u001b[49m\u001b[43mutils\u001b[49m\u001b[43m.\u001b[49m\u001b[43mimage_dataset_from_directory\u001b[49m\u001b[43m(\u001b[49m\n\u001b[32m     26\u001b[39m \u001b[43m    \u001b[49m\u001b[43mdata_dir\u001b[49m\u001b[43m,\u001b[49m\n\u001b[32m     27\u001b[39m \u001b[43m    \u001b[49m\u001b[43mvalidation_split\u001b[49m\u001b[43m=\u001b[49m\u001b[32;43m0.2\u001b[39;49m\u001b[43m,\u001b[49m\u001b[43m  \u001b[49m\u001b[38;5;66;43;03m# 20% for validation\u001b[39;49;00m\n\u001b[32m     28\u001b[39m \u001b[43m    \u001b[49m\u001b[43msubset\u001b[49m\u001b[43m=\u001b[49m\u001b[33;43m\"\u001b[39;49m\u001b[33;43mtraining\u001b[39;49m\u001b[33;43m\"\u001b[39;49m\u001b[43m,\u001b[49m\n\u001b[32m     29\u001b[39m \u001b[43m    \u001b[49m\u001b[43mseed\u001b[49m\u001b[43m=\u001b[49m\u001b[32;43m42\u001b[39;49m\u001b[43m,\u001b[49m\n\u001b[32m     30\u001b[39m \u001b[43m    \u001b[49m\u001b[43mimage_size\u001b[49m\u001b[43m=\u001b[49m\u001b[43m(\u001b[49m\u001b[43mIMG_HEIGHT\u001b[49m\u001b[43m,\u001b[49m\u001b[43m \u001b[49m\u001b[43mIMG_WIDTH\u001b[49m\u001b[43m)\u001b[49m\u001b[43m,\u001b[49m\n\u001b[32m     31\u001b[39m \u001b[43m    \u001b[49m\u001b[43mbatch_size\u001b[49m\u001b[43m=\u001b[49m\u001b[43mBATCH_SIZE\u001b[49m\u001b[43m,\u001b[49m\n\u001b[32m     32\u001b[39m \u001b[43m    \u001b[49m\u001b[43mlabel_mode\u001b[49m\u001b[43m=\u001b[49m\u001b[33;43m'\u001b[39;49m\u001b[33;43mcategorical\u001b[39;49m\u001b[33;43m'\u001b[39;49m\u001b[43m,\u001b[49m\u001b[43m  \u001b[49m\u001b[38;5;66;43;03m# For one-hot encoded labels\u001b[39;49;00m\n\u001b[32m     33\u001b[39m \u001b[43m    \u001b[49m\u001b[43mshuffle\u001b[49m\u001b[43m=\u001b[49m\u001b[38;5;28;43;01mTrue\u001b[39;49;00m\n\u001b[32m     34\u001b[39m \u001b[43m)\u001b[49m\n\u001b[32m     36\u001b[39m validation_ds = tf.keras.utils.image_dataset_from_directory(\n\u001b[32m     37\u001b[39m     data_dir,\n\u001b[32m     38\u001b[39m     validation_split=\u001b[32m0.2\u001b[39m,  \u001b[38;5;66;03m# 20% for validation\u001b[39;00m\n\u001b[32m   (...)\u001b[39m\u001b[32m     44\u001b[39m     shuffle=\u001b[38;5;28;01mTrue\u001b[39;00m\n\u001b[32m     45\u001b[39m )\n\u001b[32m     47\u001b[39m \u001b[38;5;66;03m# Create a separate test dataset by taking part of the validation set\u001b[39;00m\n\u001b[32m     48\u001b[39m \u001b[38;5;66;03m# First, let's get the number of batches in the validation set\u001b[39;00m\n",
      "\u001b[36mFile \u001b[39m\u001b[32m~/miniconda3/envs/gpu/lib/python3.11/site-packages/keras/src/utils/image_dataset_utils.py:232\u001b[39m, in \u001b[36mimage_dataset_from_directory\u001b[39m\u001b[34m(directory, labels, label_mode, class_names, color_mode, batch_size, image_size, shuffle, seed, validation_split, subset, interpolation, follow_links, crop_to_aspect_ratio, pad_to_aspect_ratio, data_format, verbose)\u001b[39m\n\u001b[32m    230\u001b[39m \u001b[38;5;28;01mif\u001b[39;00m seed \u001b[38;5;129;01mis\u001b[39;00m \u001b[38;5;28;01mNone\u001b[39;00m:\n\u001b[32m    231\u001b[39m     seed = np.random.randint(\u001b[32m1e6\u001b[39m)\n\u001b[32m--> \u001b[39m\u001b[32m232\u001b[39m image_paths, labels, class_names = \u001b[43mdataset_utils\u001b[49m\u001b[43m.\u001b[49m\u001b[43mindex_directory\u001b[49m\u001b[43m(\u001b[49m\n\u001b[32m    233\u001b[39m \u001b[43m    \u001b[49m\u001b[43mdirectory\u001b[49m\u001b[43m,\u001b[49m\n\u001b[32m    234\u001b[39m \u001b[43m    \u001b[49m\u001b[43mlabels\u001b[49m\u001b[43m,\u001b[49m\n\u001b[32m    235\u001b[39m \u001b[43m    \u001b[49m\u001b[43mformats\u001b[49m\u001b[43m=\u001b[49m\u001b[43mALLOWLIST_FORMATS\u001b[49m\u001b[43m,\u001b[49m\n\u001b[32m    236\u001b[39m \u001b[43m    \u001b[49m\u001b[43mclass_names\u001b[49m\u001b[43m=\u001b[49m\u001b[43mclass_names\u001b[49m\u001b[43m,\u001b[49m\n\u001b[32m    237\u001b[39m \u001b[43m    \u001b[49m\u001b[43mshuffle\u001b[49m\u001b[43m=\u001b[49m\u001b[43mshuffle\u001b[49m\u001b[43m,\u001b[49m\n\u001b[32m    238\u001b[39m \u001b[43m    \u001b[49m\u001b[43mseed\u001b[49m\u001b[43m=\u001b[49m\u001b[43mseed\u001b[49m\u001b[43m,\u001b[49m\n\u001b[32m    239\u001b[39m \u001b[43m    \u001b[49m\u001b[43mfollow_links\u001b[49m\u001b[43m=\u001b[49m\u001b[43mfollow_links\u001b[49m\u001b[43m,\u001b[49m\n\u001b[32m    240\u001b[39m \u001b[43m    \u001b[49m\u001b[43mverbose\u001b[49m\u001b[43m=\u001b[49m\u001b[43mverbose\u001b[49m\u001b[43m,\u001b[49m\n\u001b[32m    241\u001b[39m \u001b[43m\u001b[49m\u001b[43m)\u001b[49m\n\u001b[32m    243\u001b[39m \u001b[38;5;28;01mif\u001b[39;00m label_mode == \u001b[33m\"\u001b[39m\u001b[33mbinary\u001b[39m\u001b[33m\"\u001b[39m \u001b[38;5;129;01mand\u001b[39;00m \u001b[38;5;28mlen\u001b[39m(class_names) != \u001b[32m2\u001b[39m:\n\u001b[32m    244\u001b[39m     \u001b[38;5;28;01mraise\u001b[39;00m \u001b[38;5;167;01mValueError\u001b[39;00m(\n\u001b[32m    245\u001b[39m         \u001b[33m'\u001b[39m\u001b[33mWhen passing `label_mode=\u001b[39m\u001b[33m\"\u001b[39m\u001b[33mbinary\u001b[39m\u001b[33m\"\u001b[39m\u001b[33m`, there must be exactly 2 \u001b[39m\u001b[33m'\u001b[39m\n\u001b[32m    246\u001b[39m         \u001b[33mf\u001b[39m\u001b[33m\"\u001b[39m\u001b[33mclass_names. Received: class_names=\u001b[39m\u001b[38;5;132;01m{\u001b[39;00mclass_names\u001b[38;5;132;01m}\u001b[39;00m\u001b[33m\"\u001b[39m\n\u001b[32m    247\u001b[39m     )\n",
      "\u001b[36mFile \u001b[39m\u001b[32m~/miniconda3/envs/gpu/lib/python3.11/site-packages/keras/src/utils/dataset_utils.py:530\u001b[39m, in \u001b[36mindex_directory\u001b[39m\u001b[34m(directory, labels, formats, class_names, shuffle, seed, follow_links, verbose)\u001b[39m\n\u001b[32m    528\u001b[39m \u001b[38;5;28;01mif\u001b[39;00m labels == \u001b[33m\"\u001b[39m\u001b[33minferred\u001b[39m\u001b[33m\"\u001b[39m:\n\u001b[32m    529\u001b[39m     subdirs = []\n\u001b[32m--> \u001b[39m\u001b[32m530\u001b[39m     \u001b[38;5;28;01mfor\u001b[39;00m subdir \u001b[38;5;129;01min\u001b[39;00m \u001b[38;5;28msorted\u001b[39m(\u001b[43mtf\u001b[49m\u001b[43m.\u001b[49m\u001b[43mio\u001b[49m\u001b[43m.\u001b[49m\u001b[43mgfile\u001b[49m\u001b[43m.\u001b[49m\u001b[43mlistdir\u001b[49m\u001b[43m(\u001b[49m\u001b[43mdirectory\u001b[49m\u001b[43m)\u001b[49m):\n\u001b[32m    531\u001b[39m         \u001b[38;5;28;01mif\u001b[39;00m tf.io.gfile.isdir(tf.io.gfile.join(directory, subdir)):\n\u001b[32m    532\u001b[39m             \u001b[38;5;28;01mif\u001b[39;00m \u001b[38;5;129;01mnot\u001b[39;00m subdir.startswith(\u001b[33m\"\u001b[39m\u001b[33m.\u001b[39m\u001b[33m\"\u001b[39m):\n",
      "\u001b[36mFile \u001b[39m\u001b[32m~/miniconda3/envs/gpu/lib/python3.11/site-packages/tensorflow/python/lib/io/file_io.py:768\u001b[39m, in \u001b[36mlist_directory_v2\u001b[39m\u001b[34m(path)\u001b[39m\n\u001b[32m    753\u001b[39m \u001b[38;5;250m\u001b[39m\u001b[33;03m\"\"\"Returns a list of entries contained within a directory.\u001b[39;00m\n\u001b[32m    754\u001b[39m \n\u001b[32m    755\u001b[39m \u001b[33;03mThe list is in arbitrary order. It does not contain the special entries \".\"\u001b[39;00m\n\u001b[32m   (...)\u001b[39m\u001b[32m    765\u001b[39m \u001b[33;03m  errors.NotFoundError if directory doesn't exist\u001b[39;00m\n\u001b[32m    766\u001b[39m \u001b[33;03m\"\"\"\u001b[39;00m\n\u001b[32m    767\u001b[39m \u001b[38;5;28;01mif\u001b[39;00m \u001b[38;5;129;01mnot\u001b[39;00m is_directory(path):\n\u001b[32m--> \u001b[39m\u001b[32m768\u001b[39m   \u001b[38;5;28;01mraise\u001b[39;00m errors.NotFoundError(\n\u001b[32m    769\u001b[39m       node_def=\u001b[38;5;28;01mNone\u001b[39;00m,\n\u001b[32m    770\u001b[39m       op=\u001b[38;5;28;01mNone\u001b[39;00m,\n\u001b[32m    771\u001b[39m       message=\u001b[33m\"\u001b[39m\u001b[33mCould not find directory \u001b[39m\u001b[38;5;132;01m{}\u001b[39;00m\u001b[33m\"\u001b[39m.format(path))\n\u001b[32m    773\u001b[39m \u001b[38;5;66;03m# Convert each element to string, since the return values of the\u001b[39;00m\n\u001b[32m    774\u001b[39m \u001b[38;5;66;03m# vector of string should be interpreted as strings, not bytes.\u001b[39;00m\n\u001b[32m    775\u001b[39m \u001b[38;5;28;01mreturn\u001b[39;00m [\n\u001b[32m    776\u001b[39m     compat.as_str_any(filename)\n\u001b[32m    777\u001b[39m     \u001b[38;5;28;01mfor\u001b[39;00m filename \u001b[38;5;129;01min\u001b[39;00m _pywrap_file_io.GetChildren(compat.path_to_bytes(path))\n\u001b[32m    778\u001b[39m ]\n",
      "\u001b[31mNotFoundError\u001b[39m: Could not find directory RealWaste"
     ]
    }
   ],
   "source": [
    "# Run this code to setup the images properly into train, validation, and test sets\n",
    "# Set your data directory path - update this with your actual path\n",
    "import pathlib\n",
    "data_dir = pathlib.Path('RealWaste')\n",
    "\n",
    "# Parameters\n",
    "BATCH_SIZE = 32\n",
    "IMG_HEIGHT = 224\n",
    "IMG_WIDTH = 224\n",
    "\n",
    "# Calculate the total number of classes automatically from the directory structure\n",
    "num_classes = len([item for item in data_dir.glob('*') if item.is_dir()])\n",
    "print(f\"Number of classes: {num_classes}\")\n",
    "\n",
    "# List all class folders\n",
    "class_names = sorted([item.name for item in data_dir.glob('*') if item.is_dir()])\n",
    "print(f\"Class names: {class_names}\")\n",
    "\n",
    "# Count all images\n",
    "image_count = len(list(data_dir.glob('*/*.jpg'))) + len(list(data_dir.glob('*/*.png')))\n",
    "print(f\"Total images found: {image_count}\")\n",
    "\n",
    "# Create a dataset using tf.keras.utils.image_dataset_from_directory\n",
    "# This will automatically split the data into training and validation sets\n",
    "train_ds = tf.keras.utils.image_dataset_from_directory(\n",
    "    data_dir,\n",
    "    validation_split=0.2,  # 20% for validation\n",
    "    subset=\"training\",\n",
    "    seed=42,\n",
    "    image_size=(IMG_HEIGHT, IMG_WIDTH),\n",
    "    batch_size=BATCH_SIZE,\n",
    "    label_mode='categorical',  # For one-hot encoded labels\n",
    "    shuffle=True\n",
    ")\n",
    "\n",
    "validation_ds = tf.keras.utils.image_dataset_from_directory(\n",
    "    data_dir,\n",
    "    validation_split=0.2,  # 20% for validation\n",
    "    subset=\"validation\",\n",
    "    seed=42,\n",
    "    image_size=(IMG_HEIGHT, IMG_WIDTH),\n",
    "    batch_size=BATCH_SIZE,\n",
    "    label_mode='categorical',  # For one-hot encoded labels\n",
    "    shuffle=True\n",
    ")\n",
    "\n",
    "# Create a separate test dataset by taking part of the validation set\n",
    "# First, let's get the number of batches in the validation set\n",
    "val_batches = tf.data.experimental.cardinality(validation_ds)\n",
    "test_dataset = validation_ds.take(val_batches // 2)\n",
    "validation_ds = validation_ds.skip(val_batches // 2)\n",
    "\n",
    "print(f\"Number of training batches: {tf.data.experimental.cardinality(train_ds)}\")\n",
    "print(f\"Number of validation batches: {tf.data.experimental.cardinality(validation_ds)}\")\n",
    "print(f\"Number of test batches: {tf.data.experimental.cardinality(test_dataset)}\")\n",
    "\n",
    "# Configure dataset for performance\n",
    "AUTOTUNE = tf.data.AUTOTUNE\n",
    "\n",
    "train_ds = train_ds.cache().prefetch(buffer_size=AUTOTUNE)\n",
    "validation_ds = validation_ds.cache().prefetch(buffer_size=AUTOTUNE)\n",
    "test_dataset = test_dataset.cache().prefetch(buffer_size=AUTOTUNE)"
   ]
  },
  {
   "cell_type": "code",
   "execution_count": null,
   "metadata": {
    "id": "CvqalC0pRjNZ"
   },
   "outputs": [],
   "source": [
    "# TODO: Create a text preprocessing pipeline\n",
    "# - Tokenization\n",
    "# - Text cleaning\n",
    "# - Split data into train and test\n",
    "# - Create embeddings/features\n",
    "\n",
    "# Your code here"
   ]
  },
  {
   "cell_type": "code",
   "execution_count": null,
   "metadata": {
    "id": "YLuYXuxARjNZ"
   },
   "outputs": [],
   "source": [
    "# TODO: Prepare documents for RAG\n",
    "# - Document preprocessing\n",
    "# - Create embeddings for retrieval\n",
    "\n",
    "# Your code here"
   ]
  },
  {
   "cell_type": "markdown",
   "metadata": {
    "id": "FcnO9HqoRjNZ"
   },
   "source": [
    "## Part 2: Waste Material Classification with CNN\n",
    "\n",
    "In this section, you will build a CNN model to classify waste materials from images."
   ]
  },
  {
   "cell_type": "markdown",
   "metadata": {
    "id": "ZGuSWFkYRjNZ"
   },
   "source": [
    "### 2.1 Preprocess Images"
   ]
  },
  {
   "cell_type": "code",
   "execution_count": null,
   "metadata": {
    "id": "bHw7IWbNRjNZ"
   },
   "outputs": [],
   "source": [
    "# TODO: Implement image preprocessing\n",
    "# - Apply the preprocessing pipeline created earlier\n",
    "\n",
    "# Your code here"
   ]
  },
  {
   "cell_type": "markdown",
   "metadata": {
    "id": "Atg_s1c5RjNa"
   },
   "source": [
    "### 2.2 Implement CNN Model with Transfer Learning"
   ]
  },
  {
   "cell_type": "code",
   "execution_count": null,
   "metadata": {
    "id": "H6HPFM1mRjNa"
   },
   "outputs": [],
   "source": [
    "# TODO: Select an appropriate base model and implement transfer learning\n",
    "# - Choose from MobileNet, EfficientNet, etc.\n",
    "# - Add custom classification layers for the 9 waste categories\n",
    "# - Configure loss function and metrics\n",
    "\n",
    "# Your code here"
   ]
  },
  {
   "cell_type": "markdown",
   "metadata": {
    "id": "w55nRURdRjNa"
   },
   "source": [
    "### 2.3 Train and Evaluate the Model"
   ]
  },
  {
   "cell_type": "code",
   "execution_count": null,
   "metadata": {
    "id": "g6flDXl3RjNa"
   },
   "outputs": [],
   "source": [
    "# TODO: Train the CNN model\n",
    "# - Use appropriate batch size and epochs\n",
    "# - Implement regularization to prevent overfitting\n",
    "# - Monitor training and validation metrics\n",
    "\n",
    "# Your code here"
   ]
  },
  {
   "cell_type": "code",
   "execution_count": null,
   "metadata": {
    "id": "K2mXbdmGRjNa"
   },
   "outputs": [],
   "source": [
    "# TODO: Evaluate model performance\n",
    "# - Calculate accuracy on test set\n",
    "# - Generate confusion matrix\n",
    "# - Analyze error patterns\n",
    "\n",
    "# Your code here"
   ]
  },
  {
   "cell_type": "markdown",
   "metadata": {
    "id": "e93UA8VvRjNa"
   },
   "source": [
    "### 2.4 Fine-tune the Model"
   ]
  },
  {
   "cell_type": "code",
   "execution_count": null,
   "metadata": {
    "id": "cLTuotvjRjNa"
   },
   "outputs": [],
   "source": [
    "# TODO: Tune model parameters to improve performance\n",
    "# - Adjust learning rate\n",
    "# - Add regularization, dropout\n",
    "# - Modify architecture if needed\n",
    "\n",
    "# Your code here"
   ]
  },
  {
   "cell_type": "markdown",
   "metadata": {
    "id": "vOUzQm-ORjNa"
   },
   "source": [
    "## Part 3: Waste Description Classification\n",
    "\n",
    "In this section, you will build a text classification model to categorize waste based on descriptions."
   ]
  },
  {
   "cell_type": "markdown",
   "metadata": {
    "id": "ZFvG5POxRjNa"
   },
   "source": [
    "### 3.1 Preprocess Text Data"
   ]
  },
  {
   "cell_type": "code",
   "execution_count": null,
   "metadata": {
    "id": "Mkl2mkbTRjNa"
   },
   "outputs": [],
   "source": [
    "# TODO: Implement text preprocessing\n",
    "# - Apply the text preprocessing pipeline created earlier\n",
    "\n",
    "# Your code here"
   ]
  },
  {
   "cell_type": "markdown",
   "metadata": {
    "id": "vBO_6HtRRjNa"
   },
   "source": [
    "### 3.2 Implement Text Classification Model"
   ]
  },
  {
   "cell_type": "code",
   "execution_count": null,
   "metadata": {
    "id": "xgxh54VcRjNb"
   },
   "outputs": [],
   "source": [
    "# TODO: Choose and implement a text classification model\n",
    "# Option A: Traditional ML model (Naive Bayes, Random Forest, etc.)\n",
    "# Option B: Fine-tune a transformer-based model (BERT, DistilBERT, etc.)\n",
    "\n",
    "# Your code here"
   ]
  },
  {
   "cell_type": "markdown",
   "metadata": {
    "id": "npFcIJCiRjNb"
   },
   "source": [
    "### 3.3 Train and Evaluate the Model"
   ]
  },
  {
   "cell_type": "code",
   "execution_count": null,
   "metadata": {
    "id": "9KrHYgHWRjNb"
   },
   "outputs": [],
   "source": [
    "# TODO: Train the text classification model\n",
    "# - Use appropriate training parameters\n",
    "# - Monitor training progress\n",
    "\n",
    "# Your code here"
   ]
  },
  {
   "cell_type": "code",
   "execution_count": null,
   "metadata": {
    "id": "oBnmw0EYRjNb"
   },
   "outputs": [],
   "source": [
    "# TODO: Evaluate model performance\n",
    "# - Calculate accuracy on test set\n",
    "# - Generate confusion matrix\n",
    "# - Analyze error patterns\n",
    "\n",
    "# Your code here"
   ]
  },
  {
   "cell_type": "markdown",
   "metadata": {
    "id": "rUrqcl15RjNb"
   },
   "source": [
    "### 3.4 Create Classification Function"
   ]
  },
  {
   "cell_type": "code",
   "execution_count": null,
   "metadata": {
    "id": "B0P2ReB_RjNb"
   },
   "outputs": [],
   "source": [
    "# TODO: Create a function that takes a text description and returns the predicted waste category\n",
    "\n",
    "def classify_waste_description(description):\n",
    "    \"\"\"\n",
    "    Classifies a waste description into an appropriate category.\n",
    "\n",
    "    Args:\n",
    "        description (str): Text description of waste item\n",
    "\n",
    "    Returns:\n",
    "        str: Predicted waste category\n",
    "    \"\"\"\n",
    "    # Your code here\n",
    "    pass"
   ]
  },
  {
   "cell_type": "markdown",
   "metadata": {
    "id": "6kV487HBRjNb"
   },
   "source": [
    "## Part 4: Recycling Instruction Generation with RAG\n",
    "\n",
    "In this section, you will implement a Retrieval-Augmented Generation (RAG) system to generate recycling instructions."
   ]
  },
  {
   "cell_type": "markdown",
   "metadata": {
    "id": "piGWJKgiRjNb"
   },
   "source": [
    "### 4.1 Preprocess Documents for Retrieval"
   ]
  },
  {
   "cell_type": "code",
   "execution_count": null,
   "metadata": {
    "id": "JwZA_B6_RjNb"
   },
   "outputs": [],
   "source": [
    "# TODO: Prepare documents for retrieval\n",
    "# - Process policy documents and disposal instructions\n",
    "# - Create embeddings for efficient retrieval\n",
    "\n",
    "# Your code here"
   ]
  },
  {
   "cell_type": "markdown",
   "metadata": {
    "id": "AgzotuLDRjNb"
   },
   "source": [
    "### 4.2 Implement RAG-based System"
   ]
  },
  {
   "cell_type": "code",
   "execution_count": null,
   "metadata": {
    "id": "F3Db6G58RjNb"
   },
   "outputs": [],
   "source": [
    "# TODO: Select a pre-trained language model and implement RAG\n",
    "# - Choose an appropriate language model\n",
    "# - Create a retrieval mechanism\n",
    "\n",
    "# Your code here"
   ]
  },
  {
   "cell_type": "markdown",
   "metadata": {
    "id": "Uv-tCvY8RjNb"
   },
   "source": [
    "### 4.3 Adjust and Evaluate the System"
   ]
  },
  {
   "cell_type": "code",
   "execution_count": null,
   "metadata": {
    "id": "qX5AkI7LRjNh"
   },
   "outputs": [],
   "source": [
    "# TODO: Train the RAG-based system\n",
    "# - Adjust sampling methods/parameters\n",
    "\n",
    "# Your code here"
   ]
  },
  {
   "cell_type": "code",
   "execution_count": null,
   "metadata": {
    "id": "O3RfCq24RjNh"
   },
   "outputs": [],
   "source": [
    "# TODO: Evaluate the quality of generated instructions\n",
    "# - Test with various waste categories\n",
    "# - Assess relevance and accuracy\n",
    "\n",
    "# Your code here"
   ]
  },
  {
   "cell_type": "markdown",
   "metadata": {
    "id": "Wfep5M1BRjNi"
   },
   "source": [
    "### 4.4 Create Instruction Generation Function"
   ]
  },
  {
   "cell_type": "code",
   "execution_count": null,
   "metadata": {
    "id": "nqy4abs1RjNi"
   },
   "outputs": [],
   "source": [
    "# TODO: Create a function that takes a waste category and generates recycling instructions\n",
    "\n",
    "def generate_recycling_instructions(waste_category):\n",
    "    \"\"\"\n",
    "    Generates detailed recycling instructions for a given waste category.\n",
    "\n",
    "    Args:\n",
    "        waste_category (str): Waste category\n",
    "\n",
    "    Returns:\n",
    "        str: Detailed recycling instructions\n",
    "        list: Relevant policy documents\n",
    "    \"\"\"\n",
    "    # Your code here\n",
    "    pass"
   ]
  },
  {
   "cell_type": "markdown",
   "metadata": {
    "id": "3zkj_HTRRjNi"
   },
   "source": [
    "## Part 5: Integrated Waste Management Assistant\n",
    "\n",
    "In this section, you will integrate all three models into a unified waste management assistant."
   ]
  },
  {
   "cell_type": "markdown",
   "metadata": {
    "id": "2Znk62hFRjNi"
   },
   "source": [
    "### 5.1 Design Integration Architecture"
   ]
  },
  {
   "cell_type": "code",
   "execution_count": null,
   "metadata": {
    "id": "Hj_U_JbZRjNi"
   },
   "outputs": [],
   "source": [
    "# TODO: Design an architecture that integrates all three models\n",
    "# - Create interfaces between components\n",
    "# - Handle input/output flow\n",
    "\n",
    "# Your code here"
   ]
  },
  {
   "cell_type": "markdown",
   "metadata": {
    "id": "SVKgKn85RjNi"
   },
   "source": [
    "### 5.2 Implement Integrated Assistant"
   ]
  },
  {
   "cell_type": "code",
   "execution_count": null,
   "metadata": {
    "id": "YJYkJ8LIRjNi"
   },
   "outputs": [],
   "source": [
    "# TODO: Implement the integrated waste management assistant\n",
    "\n",
    "def waste_management_assistant(input_data, input_type=\"image\"):\n",
    "    \"\"\"\n",
    "    Integrated waste management assistant that processes either images or text descriptions\n",
    "    and returns waste classification and recycling instructions.\n",
    "\n",
    "    Args:\n",
    "        input_data: Either an image file path/array or a text description\n",
    "        input_type (str): Type of input - \"image\" or \"text\"\n",
    "\n",
    "    Returns:\n",
    "        dict: Dictionary containing waste category, confidence, and recycling instructions\n",
    "    \"\"\"\n",
    "    # Your code here\n",
    "    pass"
   ]
  },
  {
   "cell_type": "markdown",
   "metadata": {
    "id": "Rbav93z8RjNi"
   },
   "source": [
    "### 5.3 Evaluate the Integrated System"
   ]
  },
  {
   "cell_type": "code",
   "execution_count": null,
   "metadata": {
    "id": "Mj1IlIljRjNi"
   },
   "outputs": [],
   "source": [
    "# TODO: Evaluate the integrated system on test cases\n",
    "# - Test with images from test dataset\n",
    "# - Test with text descriptions from test dataset\n",
    "# - Assess overall performance\n",
    "\n",
    "# Your code here"
   ]
  },
  {
   "cell_type": "markdown",
   "metadata": {
    "id": "Z3w34n-1RjNi"
   },
   "source": [
    "## Submission Guidelines\n",
    "\n",
    "1. Make sure all code cells are properly commented and annotated\n",
    "2. Ensure that all functions are implemented and working correctly\n",
    "3. Verify that all evaluation metrics are calculated and analyzed\n",
    "4. Double-check that the integrated system works as expected\n",
    "5. Submit your completed and annotated Jupyter notebook file\n",
    "\n",
    "Remember to demonstrate your understanding of the underlying concepts and provide justification for your design decisions throughout the notebook."
   ]
  }
 ],
 "metadata": {
  "colab": {
   "provenance": []
  },
  "kernelspec": {
   "display_name": "gpu",
   "language": "python",
   "name": "python3"
  },
  "language_info": {
   "codemirror_mode": {
    "name": "ipython",
    "version": 3
   },
   "file_extension": ".py",
   "mimetype": "text/x-python",
   "name": "python",
   "nbconvert_exporter": "python",
   "pygments_lexer": "ipython3",
   "version": "3.11.14"
  }
 },
 "nbformat": 4,
 "nbformat_minor": 0
}
